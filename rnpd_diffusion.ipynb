{
 "cells": [
  {
   "attachments": {},
   "cell_type": "markdown",
   "metadata": {
    "tags": []
   },
   "source": [
    "### Install Dependencies"
   ]
  },
  {
   "cell_type": "code",
   "execution_count": null,
   "metadata": {
    "colab": {
     "base_uri": "https://localhost:8080/"
    },
    "id": "gMSp9agF2SsX",
    "outputId": "92b87978-b627-4b3e-cf35-a6ac22224e15",
    "tags": []
   },
   "outputs": [],
   "source": [
    "# Dependencies installation\n",
    "#--------------------\n",
    "force_reinstall = False\n",
    "with open('/dev/null', 'w') as devnull:import requests, os, time, importlib;open('/workspace/rnpd.py', 'wb').write(requests.get('https://raw.githubusercontent.com/alexandersokol/RNPD/master/rnpd.py').content);os.chdir('/workspace');time.sleep(2);import rnpd;importlib.reload(rnpd);from rnpd import *;install_dependencies(force_reinstall)"
   ]
  },
  {
   "attachments": {},
   "cell_type": "markdown",
   "metadata": {},
   "source": [
    "### Install/Restore stable-diffusion-webui"
   ]
  },
  {
   "cell_type": "code",
   "execution_count": null,
   "metadata": {
    "id": "b7nXG-id4s-_",
    "tags": []
   },
   "outputs": [],
   "source": [
    "# Restore/Install repos\n",
    "#--------------------\n",
    "huggingface_token = \"\"\n",
    "install_webui(huggingface_token)"
   ]
  },
  {
   "attachments": {},
   "cell_type": "markdown",
   "metadata": {},
   "source": [
    "### Start stable-diffusion-webui"
   ]
  },
  {
   "cell_type": "code",
   "execution_count": null,
   "metadata": {
    "id": "zkV4_AEnExe5",
    "tags": []
   },
   "outputs": [],
   "source": [
    "# Start webui\n",
    "#-----------------\n",
    "config = webui_config();import gradio;gradio.close_all()\n",
    "!python /workspace/sd/stable-diffusion-webui/webui.py $config"
   ]
  },
  {
   "attachments": {},
   "cell_type": "markdown",
   "metadata": {},
   "source": [
    "### Backup files"
   ]
  },
  {
   "cell_type": "code",
   "execution_count": null,
   "metadata": {
    "id": "GV_Srg_xIiue",
    "tags": []
   },
   "outputs": [],
   "source": [
    "# Backup directories\n",
    "#--------------------\n",
    "huggingface_token=\"\"\n",
    "backup(huggingface_token)"
   ]
  },
  {
   "attachments": {},
   "cell_type": "markdown",
   "metadata": {
    "tags": []
   },
   "source": [
    "# Testing stuff"
   ]
  },
  {
   "cell_type": "code",
   "execution_count": null,
   "metadata": {
    "id": "8kDS5OOw_Si-",
    "tags": []
   },
   "outputs": [],
   "source": [
    "huggingface_token=\"\"\n",
    "backup_images(huggingface_token)"
   ]
  },
  {
   "cell_type": "code",
   "execution_count": null,
   "metadata": {
    "id": "AnPRxgpx-KnY",
    "tags": []
   },
   "outputs": [],
   "source": [
    "!gdrive account import gdrive_export_account.tar"
   ]
  },
  {
   "cell_type": "code",
   "execution_count": null,
   "metadata": {
    "id": "IcCPoVW1-Nwo",
    "tags": []
   },
   "outputs": [],
   "source": [
    "!gdrive account remove rrazell@gmail.com"
   ]
  },
  {
   "cell_type": "code",
   "execution_count": null,
   "metadata": {
    "id": "gIBAp4tD-jlJ"
   },
   "outputs": [],
   "source": [
    "!pip install huggingface_hub\n",
    "!apt install zstd"
   ]
  },
  {
   "cell_type": "code",
   "execution_count": null,
   "metadata": {
    "id": "I1QHBl6qAJcz",
    "tags": []
   },
   "outputs": [],
   "source": [
    "%cd /workspace/sd/stable-diffusion-webui/extensions\n",
    "%cd sd-dynamic-prompts/wildcards\n",
    "%ls -la\n",
    "!unzip 1000.zip"
   ]
  }
 ],
 "metadata": {
  "colab": {
   "provenance": []
  },
  "kernelspec": {
   "display_name": "Python 3 (ipykernel)",
   "language": "python",
   "name": "python3"
  },
  "language_info": {
   "codemirror_mode": {
    "name": "ipython",
    "version": 3
   },
   "file_extension": ".py",
   "mimetype": "text/x-python",
   "name": "python",
   "nbconvert_exporter": "python",
   "pygments_lexer": "ipython3",
   "version": "3.10.10"
  }
 },
 "nbformat": 4,
 "nbformat_minor": 4
}
